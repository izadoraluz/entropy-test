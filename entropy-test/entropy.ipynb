{
  "cells": [
    {
      "cell_type": "markdown",
      "metadata": {
        "id": "uoyt6w9pUjW8"
      },
      "source": [
        "# Projeto - Cálculo de Entropia\n",
        "Este projeto tem como objetivo calcular a entropia de uma coluna específica de um dataset relacionado a pagamentos bancários. A análise da entropia visa medir o grau de incerteza ou aleatoriedade presente nos dados dessa coluna, permitindo, a partir disso, obter insights e conclusões relevantes sobre o comportamento do dataset."
      ]
    },
    {
      "cell_type": "markdown",
      "metadata": {},
      "source": [
        "## Entropia: \n",
        "O cálculo de entropia é uma técnica estatística usada para medir a incerteza ou aleatoriedade de uma variável. Este projeto utiliza dados de um dataset bancário para calcular a entropia de uma coluna específica e, assim, obter insights sobre a distribuição e a variabilidade das informações contidas nela."
      ]
    },
    {
      "cell_type": "markdown",
      "metadata": {},
      "source": [
        "## Teste com apenas um coluna   \n",
        "Nesta seção, realizamos o cálculo da entropia para apenas uma coluna do dataset."
      ]
    },
    {
      "cell_type": "markdown",
      "metadata": {
        "id": "Bsz3E-3WXWLb"
      },
      "source": [
        "### Importação das tabelas:"
      ]
    },
    {
      "cell_type": "code",
      "execution_count": 2,
      "metadata": {
        "id": "lJVOOsp8XPbe"
      },
      "outputs": [],
      "source": [
        "import pandas as pd\n",
        "import numpy as np"
      ]
    },
    {
      "cell_type": "markdown",
      "metadata": {
        "id": "k-z-nOunXcyl"
      },
      "source": [
        "### Análise dos Dados:\n",
        "Verifica-se a presença de valores nulos, os tipos de dados e geramos um resumo estatístico da coluna de interesse. Isso nos permite entender melhor a distribuição dos dados e identificar possíveis problemas a serem corrigidos"
      ]
    },
    {
      "cell_type": "code",
      "execution_count": 4,
      "metadata": {
        "id": "7YV7ZofIUViW"
      },
      "outputs": [],
      "source": [
        "df = pd.read_csv('OCRB.csv')\n",
        "coluna = df['AcctName']"
      ]
    },
    {
      "cell_type": "code",
      "execution_count": 5,
      "metadata": {
        "colab": {
          "base_uri": "https://localhost:8080/"
        },
        "id": "-96UZe7QQF8q",
        "outputId": "add350bb-6c9b-42ae-d6a8-ef56f8ccba1e"
      },
      "outputs": [
        {
          "data": {
            "text/plain": [
              "array(['BANCO BRADESCO S.A.', 'ITAÚ UNIBANCO S.A.',\n",
              "       'NU PAGAMENTOS S.A. (NUBANK)', 'BANCO INTER S.A.',\n",
              "       'BANCO SANTANDER (BRASIL) S.A.', 'BANCO COOPERATIVO SICREDI S.A.',\n",
              "       'BANCO BOZANO, SIMONSEN S.A. ',\n",
              "       'BANCO COOPERATIVO DO BRASIL S.A. – BANCOOB', 'PAGSEGURO',\n",
              "       'CAIXA ECONÔMICA FEDERAL', 'BANCO C6 S.A.', 'BANCO BS2 S.A.',\n",
              "       'BANCO BTG PACTUAL S.A.', 'CORA SOCIEDADE DE CRÉDITO DIRETO S.A.',\n",
              "       'BANCO DO BRASIL S.A.', 'MERCADO PAGO',\n",
              "       'COOPERATIVA CENTRAL DE CRÉDITO - AILOS (VIACRED)'], dtype=object)"
            ]
          },
          "execution_count": 5,
          "metadata": {},
          "output_type": "execute_result"
        }
      ],
      "source": [
        "quant = df['AcctName'].unique()\n",
        "quant"
      ]
    },
    {
      "cell_type": "code",
      "execution_count": 6,
      "metadata": {
        "colab": {
          "base_uri": "https://localhost:8080/"
        },
        "id": "FjuS-ANmQh2F",
        "outputId": "e6eb6c11-5b5a-4555-9f11-f7b606773628"
      },
      "outputs": [
        {
          "data": {
            "text/plain": [
              "(17,)"
            ]
          },
          "execution_count": 6,
          "metadata": {},
          "output_type": "execute_result"
        }
      ],
      "source": [
        "quant.shape"
      ]
    },
    {
      "cell_type": "code",
      "execution_count": 7,
      "metadata": {
        "id": "fuw5IjrcTaBn"
      },
      "outputs": [],
      "source": [
        "def calculo_porcentagem(coluna):\n",
        "  frequencias = coluna.value_counts(normalize=True)\n",
        "  return frequencias"
      ]
    },
    {
      "cell_type": "code",
      "execution_count": 8,
      "metadata": {
        "colab": {
          "base_uri": "https://localhost:8080/"
        },
        "id": "sAi-Jmh8Tt8x",
        "outputId": "79ea84e4-e395-45e9-aa52-b6f16c771452"
      },
      "outputs": [
        {
          "name": "stdout",
          "output_type": "stream",
          "text": [
            "AcctName\n",
            "ITAÚ UNIBANCO S.A.                                  0.507576\n",
            "BANCO BRADESCO S.A.                                 0.106061\n",
            "NU PAGAMENTOS S.A. (NUBANK)                         0.083333\n",
            "BANCO INTER S.A.                                    0.060606\n",
            "BANCO SANTANDER (BRASIL) S.A.                       0.045455\n",
            "BANCO C6 S.A.                                       0.037879\n",
            "BANCO DO BRASIL S.A.                                0.037879\n",
            "BANCO COOPERATIVO SICREDI S.A.                      0.022727\n",
            "CAIXA ECONÔMICA FEDERAL                             0.022727\n",
            "CORA SOCIEDADE DE CRÉDITO DIRETO S.A.               0.015152\n",
            "BANCO COOPERATIVO DO BRASIL S.A. – BANCOOB          0.015152\n",
            "MERCADO PAGO                                        0.007576\n",
            "PAGSEGURO                                           0.007576\n",
            "BANCO BTG PACTUAL S.A.                              0.007576\n",
            "BANCO BS2 S.A.                                      0.007576\n",
            "BANCO BOZANO, SIMONSEN S.A.                         0.007576\n",
            "COOPERATIVA CENTRAL DE CRÉDITO - AILOS (VIACRED)    0.007576\n",
            "Name: proportion, dtype: float64\n"
          ]
        }
      ],
      "source": [
        "coluna = df['AcctName']\n",
        "porcentagem_coluna = calculo_porcentagem(coluna)\n",
        "print(porcentagem_coluna)"
      ]
    },
    {
      "cell_type": "markdown",
      "metadata": {
        "id": "On7XcMJgXk1E"
      },
      "source": [
        "### Cálculo da Entropia:\n",
        "A entropia de Shannon é calculada a partir da probabilidade de ocorrência de cada valor distinto na coluna selecionada. Esse cálculo nos dá uma medida da incerteza ou variabilidade dos dados, que pode ser usada para inferir a previsibilidade dos valores de pagamento registrados no dataset"
      ]
    },
    {
      "cell_type": "code",
      "execution_count": 11,
      "metadata": {
        "id": "lnBaIs3-Mv_U"
      },
      "outputs": [],
      "source": [
        "def calcular_entropia(coluna):\n",
        "    frequencias = coluna.value_counts(normalize=True)\n",
        "    entropia = -np.sum(frequencias * np.log2(frequencias))\n",
        "    return entropia"
      ]
    },
    {
      "cell_type": "code",
      "execution_count": 12,
      "metadata": {
        "colab": {
          "base_uri": "https://localhost:8080/"
        },
        "id": "EHkygTCdOCCl",
        "outputId": "b5e84fba-9765-4f4a-aa50-694e0471e788"
      },
      "outputs": [
        {
          "name": "stdout",
          "output_type": "stream",
          "text": [
            "A entropia da coluna é: 2.6957310630553093\n"
          ]
        }
      ],
      "source": [
        "df = pd.read_csv('OCRB.csv')\n",
        "coluna = df['AcctName']\n",
        "entropia_coluna = calcular_entropia(coluna)\n",
        "print(f'A entropia da coluna é: {entropia_coluna}')"
      ]
    },
    {
      "cell_type": "markdown",
      "metadata": {},
      "source": [
        "### Conclusões:"
      ]
    },
    {
      "cell_type": "markdown",
      "metadata": {},
      "source": [
        "É possível tirar algumas conclusões sobre a entropia calculada (2.70) da coluna \"AcctName\" do dataset:\n",
        "\n",
        "   - A entropia de 2.70 sugere uma distribuição moderadamente diversificada entre os nomes das instituições financeiras (bancos) presentes na coluna. Valores mais próximos de zero indicariam uma concentração maior (ou seja, um domínio de um ou poucos bancos), enquanto valores mais altos indicariam uma distribuição mais uniforme.\n",
        "   - No caso deste dataset, o Itaú Unibanco representa mais de 50% da coluna \"AcctName\", seguido por Bradesco com 10%, Nubank com 8%, e os demais bancos com proporções muito menores. Isso indica que, apesar de existirem várias instituições, a maior parte dos dados está concentrada em poucas delas.\n",
        "   - Observa-se que o Itaú Unibanco tem uma presença majoritária no dataset, o que contribui para uma menor entropia em relação ao que seria esperado em uma distribuição mais uniforme.\n",
        "   - Mesmo com a presença de várias instituições, poucas dominam o conjunto de dados, o que implica uma previsibilidade maior do que se todas tivessem distribuições similares.\n",
        "   - A entropia de 2.70 mostra que, embora exista uma diversidade razoável de bancos, a incerteza não é tão alta. Ou seja, ao observar os dados, há uma probabilidade significativa de que uma entrada seja do Itaú Unibanco.\n",
        "   - Essa medida de entropia indica que, se os dados fossem utilizados para uma análise preditiva ou classificatória, seria mais fácil prever a instituição responsável pela transação com base na sua frequência no dataset."
      ]
    },
    {
      "cell_type": "markdown",
      "metadata": {
        "id": "1kB9re0-ZB-J"
      },
      "source": [
        "## Teste com todas as colunas   \n",
        "Nesta seção, realizamos o cálculo da entropia para todas as colunas do dataset."
      ]
    },
    {
      "cell_type": "code",
      "execution_count": 13,
      "metadata": {
        "id": "We8yxrL1ZJlc"
      },
      "outputs": [],
      "source": [
        "def calcular_entropia_df(df):\n",
        "  for coluna in df.columns:\n",
        "    coluna = df[coluna]\n",
        "    frequencias = coluna.value_counts(normalize=True)\n",
        "    entropia = -np.sum(frequencias * np.log2(frequencias))\n",
        "    print(f'A entropia da coluna {coluna.name} é: {entropia}')"
      ]
    },
    {
      "cell_type": "code",
      "execution_count": 14,
      "metadata": {
        "colab": {
          "base_uri": "https://localhost:8080/"
        },
        "id": "Vqhcez2rZiek",
        "outputId": "1b376c1c-82de-4510-ed64-5e12acfe6e45"
      },
      "outputs": [
        {
          "name": "stdout",
          "output_type": "stream",
          "text": [
            "A entropia da coluna CardCode é: 6.8928789678433\n",
            "A entropia da coluna LineNum é: 0.38705142139219784\n",
            "A entropia da coluna County é: -0.0\n",
            "A entropia da coluna BankCode é: 2.6957310630553093\n",
            "A entropia da coluna Branch é: 5.7500969494615735\n",
            "A entropia da coluna Account é: 6.8871601231299415\n",
            "A entropia da coluna AcctName é: 2.6957310630553093\n"
          ]
        }
      ],
      "source": [
        "df = pd.read_csv('OCRB.csv')\n",
        "calcular_entropia_df(df)"
      ]
    }
  ],
  "metadata": {
    "colab": {
      "provenance": []
    },
    "kernelspec": {
      "display_name": "Python 3",
      "name": "python3"
    },
    "language_info": {
      "codemirror_mode": {
        "name": "ipython",
        "version": 3
      },
      "file_extension": ".py",
      "mimetype": "text/x-python",
      "name": "python",
      "nbconvert_exporter": "python",
      "pygments_lexer": "ipython3",
      "version": "3.12.3"
    }
  },
  "nbformat": 4,
  "nbformat_minor": 0
}
